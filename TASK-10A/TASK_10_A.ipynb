{
  "nbformat": 4,
  "nbformat_minor": 0,
  "metadata": {
    "colab": {
      "provenance": []
    },
    "kernelspec": {
      "name": "python3",
      "display_name": "Python 3"
    },
    "language_info": {
      "name": "python"
    },
    "gpuClass": "standard"
  },
  "cells": [
    {
      "cell_type": "markdown",
      "source": [
        "**TASK-10A: Please model the AD dataset using the SVM, Decision Tree, and Random Forest algorithms.\n",
        "Please apply train test split (%75-%25)\n",
        "Then grid search (hyperparameter tuning)\n",
        "Then classification report and confusion matrix (on the test dataset)\n",
        "Then compare the findings from the three algorithms.**"
      ],
      "metadata": {
        "id": "qvlHOaHkzArb"
      }
    },
    {
      "cell_type": "code",
      "execution_count": 1,
      "metadata": {
        "id": "m5RaQOKqsAwl"
      },
      "outputs": [],
      "source": [
        "from sklearn.svm import SVC\n",
        "from sklearn.tree import DecisionTreeClassifier\n",
        "from sklearn.ensemble import RandomForestClassifier\n",
        "from sklearn.model_selection import train_test_split\n",
        "from sklearn.metrics import accuracy_score\n",
        "from sklearn.metrics import classification_report, confusion_matrix\n",
        "from sklearn.model_selection import GridSearchCV\n",
        "import numpy as np\n",
        "import pandas as pd\n"
      ]
    },
    {
      "cell_type": "code",
      "source": [
        "data = pd.read_excel('Temporary_data3_Left_Right_Copy.xlsx')\n",
        "data.head()"
      ],
      "metadata": {
        "colab": {
          "base_uri": "https://localhost:8080/",
          "height": 299
        },
        "id": "gjIQnUHltKWk",
        "outputId": "f469c6c3-a1e5-470f-c750-e2cf77a92166"
      },
      "execution_count": 2,
      "outputs": [
        {
          "output_type": "execute_result",
          "data": {
            "text/plain": [
              "   SEX  EDUC  MARISTAT  INDEPEND  RESIDENC  NACCFAM  ANYMEDS  SMOKYRS  \\\n",
              "0    2    18         1         1         1        1        1        0   \n",
              "1    1    11         1         1         1        1        1        0   \n",
              "2    2    16         1         1         1        1        1       10   \n",
              "3    1    14         1         1         1        0        1        0   \n",
              "4    1    16         1         1         2        0        1       50   \n",
              "\n",
              "   NACCTBI  DIABETES  ...   RSUPFR  RSUPFRM  RSUPPAR  RSUPPARM  RSUPTEM  \\\n",
              "0        0         0  ...  27.9038   2.2157  10.3481    1.7014  13.4250   \n",
              "1        0         0  ...  29.0600   2.6900   9.2500    1.6300  14.8800   \n",
              "2        0         1  ...  33.0000   2.5400  13.6900    1.5600  16.2300   \n",
              "3        0         1  ...  31.6800   2.4100   9.6400    1.4500  15.1100   \n",
              "4        0         0  ...  28.0631   1.9501   9.1125    1.0427  13.3763   \n",
              "\n",
              "   RSUPTEMM  RSUPMAR  RSUPMARM  RTRTEM  RTRTEMM  \n",
              "0    1.7419   9.8700    1.6792  0.8906   1.1947  \n",
              "1    2.3000   7.2700    1.8900  1.3800   2.0300  \n",
              "2    2.0700  10.1100    1.8400  1.0100   1.5000  \n",
              "3    1.6400  10.3900    1.8300  0.7400   1.1000  \n",
              "4    1.6270   7.5844    1.4595  0.6638   0.8527  \n",
              "\n",
              "[5 rows x 186 columns]"
            ],
            "text/html": [
              "\n",
              "  <div id=\"df-3f279f4b-4ca8-43e6-a9bb-65c29a7e6185\">\n",
              "    <div class=\"colab-df-container\">\n",
              "      <div>\n",
              "<style scoped>\n",
              "    .dataframe tbody tr th:only-of-type {\n",
              "        vertical-align: middle;\n",
              "    }\n",
              "\n",
              "    .dataframe tbody tr th {\n",
              "        vertical-align: top;\n",
              "    }\n",
              "\n",
              "    .dataframe thead th {\n",
              "        text-align: right;\n",
              "    }\n",
              "</style>\n",
              "<table border=\"1\" class=\"dataframe\">\n",
              "  <thead>\n",
              "    <tr style=\"text-align: right;\">\n",
              "      <th></th>\n",
              "      <th>SEX</th>\n",
              "      <th>EDUC</th>\n",
              "      <th>MARISTAT</th>\n",
              "      <th>INDEPEND</th>\n",
              "      <th>RESIDENC</th>\n",
              "      <th>NACCFAM</th>\n",
              "      <th>ANYMEDS</th>\n",
              "      <th>SMOKYRS</th>\n",
              "      <th>NACCTBI</th>\n",
              "      <th>DIABETES</th>\n",
              "      <th>...</th>\n",
              "      <th>RSUPFR</th>\n",
              "      <th>RSUPFRM</th>\n",
              "      <th>RSUPPAR</th>\n",
              "      <th>RSUPPARM</th>\n",
              "      <th>RSUPTEM</th>\n",
              "      <th>RSUPTEMM</th>\n",
              "      <th>RSUPMAR</th>\n",
              "      <th>RSUPMARM</th>\n",
              "      <th>RTRTEM</th>\n",
              "      <th>RTRTEMM</th>\n",
              "    </tr>\n",
              "  </thead>\n",
              "  <tbody>\n",
              "    <tr>\n",
              "      <th>0</th>\n",
              "      <td>2</td>\n",
              "      <td>18</td>\n",
              "      <td>1</td>\n",
              "      <td>1</td>\n",
              "      <td>1</td>\n",
              "      <td>1</td>\n",
              "      <td>1</td>\n",
              "      <td>0</td>\n",
              "      <td>0</td>\n",
              "      <td>0</td>\n",
              "      <td>...</td>\n",
              "      <td>27.9038</td>\n",
              "      <td>2.2157</td>\n",
              "      <td>10.3481</td>\n",
              "      <td>1.7014</td>\n",
              "      <td>13.4250</td>\n",
              "      <td>1.7419</td>\n",
              "      <td>9.8700</td>\n",
              "      <td>1.6792</td>\n",
              "      <td>0.8906</td>\n",
              "      <td>1.1947</td>\n",
              "    </tr>\n",
              "    <tr>\n",
              "      <th>1</th>\n",
              "      <td>1</td>\n",
              "      <td>11</td>\n",
              "      <td>1</td>\n",
              "      <td>1</td>\n",
              "      <td>1</td>\n",
              "      <td>1</td>\n",
              "      <td>1</td>\n",
              "      <td>0</td>\n",
              "      <td>0</td>\n",
              "      <td>0</td>\n",
              "      <td>...</td>\n",
              "      <td>29.0600</td>\n",
              "      <td>2.6900</td>\n",
              "      <td>9.2500</td>\n",
              "      <td>1.6300</td>\n",
              "      <td>14.8800</td>\n",
              "      <td>2.3000</td>\n",
              "      <td>7.2700</td>\n",
              "      <td>1.8900</td>\n",
              "      <td>1.3800</td>\n",
              "      <td>2.0300</td>\n",
              "    </tr>\n",
              "    <tr>\n",
              "      <th>2</th>\n",
              "      <td>2</td>\n",
              "      <td>16</td>\n",
              "      <td>1</td>\n",
              "      <td>1</td>\n",
              "      <td>1</td>\n",
              "      <td>1</td>\n",
              "      <td>1</td>\n",
              "      <td>10</td>\n",
              "      <td>0</td>\n",
              "      <td>1</td>\n",
              "      <td>...</td>\n",
              "      <td>33.0000</td>\n",
              "      <td>2.5400</td>\n",
              "      <td>13.6900</td>\n",
              "      <td>1.5600</td>\n",
              "      <td>16.2300</td>\n",
              "      <td>2.0700</td>\n",
              "      <td>10.1100</td>\n",
              "      <td>1.8400</td>\n",
              "      <td>1.0100</td>\n",
              "      <td>1.5000</td>\n",
              "    </tr>\n",
              "    <tr>\n",
              "      <th>3</th>\n",
              "      <td>1</td>\n",
              "      <td>14</td>\n",
              "      <td>1</td>\n",
              "      <td>1</td>\n",
              "      <td>1</td>\n",
              "      <td>0</td>\n",
              "      <td>1</td>\n",
              "      <td>0</td>\n",
              "      <td>0</td>\n",
              "      <td>1</td>\n",
              "      <td>...</td>\n",
              "      <td>31.6800</td>\n",
              "      <td>2.4100</td>\n",
              "      <td>9.6400</td>\n",
              "      <td>1.4500</td>\n",
              "      <td>15.1100</td>\n",
              "      <td>1.6400</td>\n",
              "      <td>10.3900</td>\n",
              "      <td>1.8300</td>\n",
              "      <td>0.7400</td>\n",
              "      <td>1.1000</td>\n",
              "    </tr>\n",
              "    <tr>\n",
              "      <th>4</th>\n",
              "      <td>1</td>\n",
              "      <td>16</td>\n",
              "      <td>1</td>\n",
              "      <td>1</td>\n",
              "      <td>2</td>\n",
              "      <td>0</td>\n",
              "      <td>1</td>\n",
              "      <td>50</td>\n",
              "      <td>0</td>\n",
              "      <td>0</td>\n",
              "      <td>...</td>\n",
              "      <td>28.0631</td>\n",
              "      <td>1.9501</td>\n",
              "      <td>9.1125</td>\n",
              "      <td>1.0427</td>\n",
              "      <td>13.3763</td>\n",
              "      <td>1.6270</td>\n",
              "      <td>7.5844</td>\n",
              "      <td>1.4595</td>\n",
              "      <td>0.6638</td>\n",
              "      <td>0.8527</td>\n",
              "    </tr>\n",
              "  </tbody>\n",
              "</table>\n",
              "<p>5 rows × 186 columns</p>\n",
              "</div>\n",
              "      <button class=\"colab-df-convert\" onclick=\"convertToInteractive('df-3f279f4b-4ca8-43e6-a9bb-65c29a7e6185')\"\n",
              "              title=\"Convert this dataframe to an interactive table.\"\n",
              "              style=\"display:none;\">\n",
              "        \n",
              "  <svg xmlns=\"http://www.w3.org/2000/svg\" height=\"24px\"viewBox=\"0 0 24 24\"\n",
              "       width=\"24px\">\n",
              "    <path d=\"M0 0h24v24H0V0z\" fill=\"none\"/>\n",
              "    <path d=\"M18.56 5.44l.94 2.06.94-2.06 2.06-.94-2.06-.94-.94-2.06-.94 2.06-2.06.94zm-11 1L8.5 8.5l.94-2.06 2.06-.94-2.06-.94L8.5 2.5l-.94 2.06-2.06.94zm10 10l.94 2.06.94-2.06 2.06-.94-2.06-.94-.94-2.06-.94 2.06-2.06.94z\"/><path d=\"M17.41 7.96l-1.37-1.37c-.4-.4-.92-.59-1.43-.59-.52 0-1.04.2-1.43.59L10.3 9.45l-7.72 7.72c-.78.78-.78 2.05 0 2.83L4 21.41c.39.39.9.59 1.41.59.51 0 1.02-.2 1.41-.59l7.78-7.78 2.81-2.81c.8-.78.8-2.07 0-2.86zM5.41 20L4 18.59l7.72-7.72 1.47 1.35L5.41 20z\"/>\n",
              "  </svg>\n",
              "      </button>\n",
              "      \n",
              "  <style>\n",
              "    .colab-df-container {\n",
              "      display:flex;\n",
              "      flex-wrap:wrap;\n",
              "      gap: 12px;\n",
              "    }\n",
              "\n",
              "    .colab-df-convert {\n",
              "      background-color: #E8F0FE;\n",
              "      border: none;\n",
              "      border-radius: 50%;\n",
              "      cursor: pointer;\n",
              "      display: none;\n",
              "      fill: #1967D2;\n",
              "      height: 32px;\n",
              "      padding: 0 0 0 0;\n",
              "      width: 32px;\n",
              "    }\n",
              "\n",
              "    .colab-df-convert:hover {\n",
              "      background-color: #E2EBFA;\n",
              "      box-shadow: 0px 1px 2px rgba(60, 64, 67, 0.3), 0px 1px 3px 1px rgba(60, 64, 67, 0.15);\n",
              "      fill: #174EA6;\n",
              "    }\n",
              "\n",
              "    [theme=dark] .colab-df-convert {\n",
              "      background-color: #3B4455;\n",
              "      fill: #D2E3FC;\n",
              "    }\n",
              "\n",
              "    [theme=dark] .colab-df-convert:hover {\n",
              "      background-color: #434B5C;\n",
              "      box-shadow: 0px 1px 3px 1px rgba(0, 0, 0, 0.15);\n",
              "      filter: drop-shadow(0px 1px 2px rgba(0, 0, 0, 0.3));\n",
              "      fill: #FFFFFF;\n",
              "    }\n",
              "  </style>\n",
              "\n",
              "      <script>\n",
              "        const buttonEl =\n",
              "          document.querySelector('#df-3f279f4b-4ca8-43e6-a9bb-65c29a7e6185 button.colab-df-convert');\n",
              "        buttonEl.style.display =\n",
              "          google.colab.kernel.accessAllowed ? 'block' : 'none';\n",
              "\n",
              "        async function convertToInteractive(key) {\n",
              "          const element = document.querySelector('#df-3f279f4b-4ca8-43e6-a9bb-65c29a7e6185');\n",
              "          const dataTable =\n",
              "            await google.colab.kernel.invokeFunction('convertToInteractive',\n",
              "                                                     [key], {});\n",
              "          if (!dataTable) return;\n",
              "\n",
              "          const docLinkHtml = 'Like what you see? Visit the ' +\n",
              "            '<a target=\"_blank\" href=https://colab.research.google.com/notebooks/data_table.ipynb>data table notebook</a>'\n",
              "            + ' to learn more about interactive tables.';\n",
              "          element.innerHTML = '';\n",
              "          dataTable['output_type'] = 'display_data';\n",
              "          await google.colab.output.renderOutput(dataTable, element);\n",
              "          const docLink = document.createElement('div');\n",
              "          docLink.innerHTML = docLinkHtml;\n",
              "          element.appendChild(docLink);\n",
              "        }\n",
              "      </script>\n",
              "    </div>\n",
              "  </div>\n",
              "  "
            ]
          },
          "metadata": {},
          "execution_count": 2
        }
      ]
    },
    {
      "cell_type": "code",
      "source": [
        "X = data.drop(['CDRGLOB'], axis = 1)\n",
        "y=data.CDRGLOB"
      ],
      "metadata": {
        "id": "xSvS6c9wtP1H"
      },
      "execution_count": 3,
      "outputs": []
    },
    {
      "cell_type": "code",
      "source": [
        "X_train, X_test, y_train, y_test = train_test_split(X, y, test_size=0.25, stratify=y)"
      ],
      "metadata": {
        "id": "MTgs3Q-WuOFO"
      },
      "execution_count": 4,
      "outputs": []
    },
    {
      "cell_type": "code",
      "source": [
        "class_names = ['CDRGLOB 0','CDRGLOB 1','CDRGLOB 2','CDRGLOB 3']"
      ],
      "metadata": {
        "id": "lPLLllrV3nD3"
      },
      "execution_count": 5,
      "outputs": []
    },
    {
      "cell_type": "markdown",
      "source": [
        "**SVM**"
      ],
      "metadata": {
        "id": "jHAGyVmku1oy"
      }
    },
    {
      "cell_type": "code",
      "source": [
        "param_grid_svc = {'C': [0.1,1,2,4,8],\n",
        "              'kernel': ['rbf', 'poly'],\n",
        "              'shrinking':[True,False],\n",
        "}\n",
        "grid_svc = GridSearchCV(SVC(), param_grid_svc,refit=True)\n",
        "grid_svc.fit(X_train, y_train)\n"
      ],
      "metadata": {
        "id": "AsGSp3Ysu5g0",
        "colab": {
          "base_uri": "https://localhost:8080/"
        },
        "outputId": "e8caec1e-371b-4851-83b0-316c2607e802"
      },
      "execution_count": 6,
      "outputs": [
        {
          "output_type": "execute_result",
          "data": {
            "text/plain": [
              "GridSearchCV(estimator=SVC(),\n",
              "             param_grid={'C': [0.1, 1, 2, 4, 8], 'kernel': ['rbf', 'poly'],\n",
              "                         'shrinking': [True, False]})"
            ]
          },
          "metadata": {},
          "execution_count": 6
        }
      ]
    },
    {
      "cell_type": "code",
      "source": [
        "grid_svc.best_params_"
      ],
      "metadata": {
        "id": "oW8nwcVV03fe",
        "colab": {
          "base_uri": "https://localhost:8080/"
        },
        "outputId": "1f295cfd-78f8-4040-b450-81ba8419a53b"
      },
      "execution_count": 7,
      "outputs": [
        {
          "output_type": "execute_result",
          "data": {
            "text/plain": [
              "{'C': 8, 'kernel': 'poly', 'shrinking': True}"
            ]
          },
          "metadata": {},
          "execution_count": 7
        }
      ]
    },
    {
      "cell_type": "code",
      "source": [
        "model_svc = grid_svc.best_estimator_\n",
        "pred_svc = model_svc.fit(X_train,y_train).predict(X_test)\n",
        "print(confusion_matrix(y_test, pred_svc))\n",
        "print(\" \")\n",
        "print(classification_report(y_test, pred_svc,target_names=class_names))\n",
        "\n"
      ],
      "metadata": {
        "id": "FLjsbfgm1Qmb",
        "colab": {
          "base_uri": "https://localhost:8080/"
        },
        "outputId": "022d9f2a-4647-4ddb-f741-0be10c230e52"
      },
      "execution_count": 8,
      "outputs": [
        {
          "output_type": "stream",
          "name": "stdout",
          "text": [
            "[[135  27   0   0]\n",
            " [ 58  66   0   0]\n",
            " [  9  32   0   0]\n",
            " [  0  12   0   0]]\n",
            " \n",
            "              precision    recall  f1-score   support\n",
            "\n",
            "   CDRGLOB 0       0.67      0.83      0.74       162\n",
            "   CDRGLOB 1       0.48      0.53      0.51       124\n",
            "   CDRGLOB 2       0.00      0.00      0.00        41\n",
            "   CDRGLOB 3       0.00      0.00      0.00        12\n",
            "\n",
            "    accuracy                           0.59       339\n",
            "   macro avg       0.29      0.34      0.31       339\n",
            "weighted avg       0.50      0.59      0.54       339\n",
            "\n"
          ]
        },
        {
          "output_type": "stream",
          "name": "stderr",
          "text": [
            "/usr/local/lib/python3.7/dist-packages/sklearn/metrics/_classification.py:1318: UndefinedMetricWarning: Precision and F-score are ill-defined and being set to 0.0 in labels with no predicted samples. Use `zero_division` parameter to control this behavior.\n",
            "  _warn_prf(average, modifier, msg_start, len(result))\n",
            "/usr/local/lib/python3.7/dist-packages/sklearn/metrics/_classification.py:1318: UndefinedMetricWarning: Precision and F-score are ill-defined and being set to 0.0 in labels with no predicted samples. Use `zero_division` parameter to control this behavior.\n",
            "  _warn_prf(average, modifier, msg_start, len(result))\n",
            "/usr/local/lib/python3.7/dist-packages/sklearn/metrics/_classification.py:1318: UndefinedMetricWarning: Precision and F-score are ill-defined and being set to 0.0 in labels with no predicted samples. Use `zero_division` parameter to control this behavior.\n",
            "  _warn_prf(average, modifier, msg_start, len(result))\n"
          ]
        }
      ]
    },
    {
      "cell_type": "markdown",
      "source": [
        "**Decision Tree**"
      ],
      "metadata": {
        "id": "-nGWKSTBy7Dh"
      }
    },
    {
      "cell_type": "code",
      "source": [
        "param_grid_dc = {\n",
        "    \n",
        "    'min_samples_split': [1,2,4,8],\n",
        "    'min_samples_leaf': [1,4, 7, 10],\n",
        "    'max_features' : [1,2,4,8]\n",
        "      }\n",
        "\n",
        "grid_dc = GridSearchCV(DecisionTreeClassifier(), param_grid_dc,refit=True)\n",
        "grid_dc.fit(X_train,y_train)\n"
      ],
      "metadata": {
        "id": "lg3Qs8Jau5lT",
        "colab": {
          "base_uri": "https://localhost:8080/"
        },
        "outputId": "7b62208e-cb64-4ed1-a608-ea0982d42d66"
      },
      "execution_count": 9,
      "outputs": [
        {
          "output_type": "stream",
          "name": "stderr",
          "text": [
            "/usr/local/lib/python3.7/dist-packages/sklearn/model_selection/_validation.py:372: FitFailedWarning: \n",
            "80 fits failed out of a total of 320.\n",
            "The score on these train-test partitions for these parameters will be set to nan.\n",
            "If these failures are not expected, you can try to debug them by setting error_score='raise'.\n",
            "\n",
            "Below are more details about the failures:\n",
            "--------------------------------------------------------------------------------\n",
            "80 fits failed with the following error:\n",
            "Traceback (most recent call last):\n",
            "  File \"/usr/local/lib/python3.7/dist-packages/sklearn/model_selection/_validation.py\", line 680, in _fit_and_score\n",
            "    estimator.fit(X_train, y_train, **fit_params)\n",
            "  File \"/usr/local/lib/python3.7/dist-packages/sklearn/tree/_classes.py\", line 942, in fit\n",
            "    X_idx_sorted=X_idx_sorted,\n",
            "  File \"/usr/local/lib/python3.7/dist-packages/sklearn/tree/_classes.py\", line 254, in fit\n",
            "    % self.min_samples_split\n",
            "ValueError: min_samples_split must be an integer greater than 1 or a float in (0.0, 1.0]; got the integer 1\n",
            "\n",
            "  warnings.warn(some_fits_failed_message, FitFailedWarning)\n",
            "/usr/local/lib/python3.7/dist-packages/sklearn/model_selection/_search.py:972: UserWarning: One or more of the test scores are non-finite: [       nan 0.46305419 0.47980296 0.50049261        nan 0.51921182\n",
            " 0.49261084 0.49655172        nan 0.46403941 0.50935961 0.4955665\n",
            "        nan 0.48275862 0.52019704 0.52906404        nan 0.50738916\n",
            " 0.48571429 0.49852217        nan 0.5270936  0.51330049 0.50738916\n",
            "        nan 0.52019704 0.52512315 0.51034483        nan 0.5182266\n",
            " 0.53497537 0.51330049        nan 0.51625616 0.50738916 0.52315271\n",
            "        nan 0.51330049 0.53891626 0.52906404        nan 0.5044335\n",
            " 0.52610837 0.51921182        nan 0.54482759 0.54778325 0.53891626\n",
            "        nan 0.52019704 0.53497537 0.53990148        nan 0.54285714\n",
            " 0.52413793 0.56157635        nan 0.53990148 0.57142857 0.54975369\n",
            "        nan 0.53891626 0.5182266  0.54876847]\n",
            "  category=UserWarning,\n"
          ]
        },
        {
          "output_type": "execute_result",
          "data": {
            "text/plain": [
              "GridSearchCV(estimator=DecisionTreeClassifier(),\n",
              "             param_grid={'max_features': [1, 2, 4, 8],\n",
              "                         'min_samples_leaf': [1, 4, 7, 10],\n",
              "                         'min_samples_split': [1, 2, 4, 8]})"
            ]
          },
          "metadata": {},
          "execution_count": 9
        }
      ]
    },
    {
      "cell_type": "code",
      "source": [
        "grid_dc.best_params_"
      ],
      "metadata": {
        "id": "-zu8jxVb7uWh",
        "colab": {
          "base_uri": "https://localhost:8080/"
        },
        "outputId": "c7bce88f-ce0c-4d83-fa30-57d58786fbb9"
      },
      "execution_count": 10,
      "outputs": [
        {
          "output_type": "execute_result",
          "data": {
            "text/plain": [
              "{'max_features': 8, 'min_samples_leaf': 7, 'min_samples_split': 4}"
            ]
          },
          "metadata": {},
          "execution_count": 10
        }
      ]
    },
    {
      "cell_type": "code",
      "source": [
        "model_dc = grid_dc.best_estimator_\n",
        "pred_dc = model_dc.fit(X_train,y_train).predict(X_test)\n",
        "print(confusion_matrix(y_test, pred_dc))\n",
        "print(\" \")\n",
        "print(classification_report(y_test, pred_dc,target_names=class_names))\n"
      ],
      "metadata": {
        "id": "TLuLymuH7wYM",
        "colab": {
          "base_uri": "https://localhost:8080/"
        },
        "outputId": "a44c3260-b645-46f6-ea4e-d69cfd7d129b"
      },
      "execution_count": 11,
      "outputs": [
        {
          "output_type": "stream",
          "name": "stdout",
          "text": [
            "[[112  48   2   0]\n",
            " [ 48  60  16   0]\n",
            " [  8  18  14   1]\n",
            " [  0   5   5   2]]\n",
            " \n",
            "              precision    recall  f1-score   support\n",
            "\n",
            "   CDRGLOB 0       0.67      0.69      0.68       162\n",
            "   CDRGLOB 1       0.46      0.48      0.47       124\n",
            "   CDRGLOB 2       0.38      0.34      0.36        41\n",
            "   CDRGLOB 3       0.67      0.17      0.27        12\n",
            "\n",
            "    accuracy                           0.55       339\n",
            "   macro avg       0.54      0.42      0.44       339\n",
            "weighted avg       0.56      0.55      0.55       339\n",
            "\n"
          ]
        }
      ]
    },
    {
      "cell_type": "markdown",
      "source": [
        "**Random Forest**"
      ],
      "metadata": {
        "id": "FCssDAgI2R-d"
      }
    },
    {
      "cell_type": "code",
      "source": [
        "param_grid_rf = {\n",
        "    'n_estimators' : [10,50,100],\n",
        "    'min_samples_split' : [2,4,6],\n",
        "    'min_samples_leaf' : [2,4,6]\n",
        "}\n",
        "\n",
        "grid_rf = GridSearchCV(RandomForestClassifier(), param_grid_rf,refit=True)\n",
        "grid_rf.fit(X_train,y_train)"
      ],
      "metadata": {
        "id": "ZcnSuIxN2UTQ",
        "colab": {
          "base_uri": "https://localhost:8080/"
        },
        "outputId": "55671d49-f5cb-4b5e-8bf7-bab4cfe48e0c"
      },
      "execution_count": 12,
      "outputs": [
        {
          "output_type": "execute_result",
          "data": {
            "text/plain": [
              "GridSearchCV(estimator=RandomForestClassifier(),\n",
              "             param_grid={'min_samples_leaf': [2, 4, 6],\n",
              "                         'min_samples_split': [2, 4, 6],\n",
              "                         'n_estimators': [10, 50, 100]})"
            ]
          },
          "metadata": {},
          "execution_count": 12
        }
      ]
    },
    {
      "cell_type": "code",
      "source": [
        "grid_rf.best_params_"
      ],
      "metadata": {
        "id": "4qYBfxAE8SRI",
        "colab": {
          "base_uri": "https://localhost:8080/"
        },
        "outputId": "2503cd82-8269-4275-8864-9682aa167cf9"
      },
      "execution_count": 13,
      "outputs": [
        {
          "output_type": "execute_result",
          "data": {
            "text/plain": [
              "{'min_samples_leaf': 2, 'min_samples_split': 6, 'n_estimators': 50}"
            ]
          },
          "metadata": {},
          "execution_count": 13
        }
      ]
    },
    {
      "cell_type": "code",
      "source": [
        "model_rf = grid_rf.best_estimator_\n",
        "pred_rf = model_rf.fit(X_train,y_train).predict(X_test)\n",
        "print(confusion_matrix(y_test, pred_rf))\n",
        "print(\" \")\n",
        "print(classification_report(y_test, pred_rf,target_names=class_names))\n"
      ],
      "metadata": {
        "id": "60_X0oCq8WSn",
        "colab": {
          "base_uri": "https://localhost:8080/"
        },
        "outputId": "f24fb609-e209-46b5-bc9a-774823145767"
      },
      "execution_count": 14,
      "outputs": [
        {
          "output_type": "stream",
          "name": "stdout",
          "text": [
            "[[143  19   0   0]\n",
            " [ 38  84   2   0]\n",
            " [  1  31   9   0]\n",
            " [  0   3   8   1]]\n",
            " \n",
            "              precision    recall  f1-score   support\n",
            "\n",
            "   CDRGLOB 0       0.79      0.88      0.83       162\n",
            "   CDRGLOB 1       0.61      0.68      0.64       124\n",
            "   CDRGLOB 2       0.47      0.22      0.30        41\n",
            "   CDRGLOB 3       1.00      0.08      0.15        12\n",
            "\n",
            "    accuracy                           0.70       339\n",
            "   macro avg       0.72      0.47      0.48       339\n",
            "weighted avg       0.69      0.70      0.67       339\n",
            "\n"
          ]
        }
      ]
    },
    {
      "cell_type": "code",
      "source": [
        "import matplotlib.pyplot as plt\n",
        "acc_svc = accuracy_score(y_test, pred_svc)\n",
        "print(acc_svc)\n",
        "acc_dc = accuracy_score(y_test,pred_dc)\n",
        "print(acc_dc)\n",
        "acc_rf = accuracy_score(y_test,pred_rf)\n",
        "print(acc_rf)\n",
        "classifier_name = [\"SVM\",\"Decision Tree\",\"Random Forest\"]\n",
        "accuracy_scores = [acc_svc, acc_dc, acc_rf]\n",
        "fig = plt.figure(figsize = (12, 6))\n",
        "plt.bar(classifier_name, accuracy_scores, color ='orange', width = 0.5) \n",
        "plt.title(\"Accuracy Values ​​for 3 Classifier Algorithm\")\n",
        "plt.xlabel(\"Classifier\")\n",
        "plt.ylabel(\"Accuracy\")\n",
        "plt.grid()\n",
        "plt.show()"
      ],
      "metadata": {
        "id": "plEbuRTjCuSF",
        "colab": {
          "base_uri": "https://localhost:8080/",
          "height": 456
        },
        "outputId": "2f474fe5-e0fb-46da-a73c-30bc564acd40"
      },
      "execution_count": 15,
      "outputs": [
        {
          "output_type": "stream",
          "name": "stdout",
          "text": [
            "0.5929203539823009\n",
            "0.5545722713864307\n",
            "0.6991150442477876\n"
          ]
        },
        {
          "output_type": "display_data",
          "data": {
            "text/plain": [
              "<Figure size 864x432 with 1 Axes>"
            ],
            "image/png": "[encoded data removed]"
          },
          "metadata": {
            "needs_background": "light"
          }
        }
      ]
    }
  ]
}