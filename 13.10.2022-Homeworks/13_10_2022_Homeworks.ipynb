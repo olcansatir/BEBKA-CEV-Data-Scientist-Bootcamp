{
  "nbformat": 4,
  "nbformat_minor": 0,
  "metadata": {
    "colab": {
      "provenance": [],
      "collapsed_sections": []
    },
    "kernelspec": {
      "name": "python3",
      "display_name": "Python 3"
    },
    "language_info": {
      "name": "python"
    }
  },
  "cells": [
    {
      "cell_type": "markdown",
      "source": [
        "**Ödev-1)**\n",
        "**Json-Dictionary arasındaki fark nedir?**\n",
        "\n",
        "Dictionary Python’a özeldir, ancak json evrenseldir yani dilden bağımsızdır.\n",
        "Json veri yapısı özelliğinden yoksun saf bir dizedir ancak dictionary karma nesneler içerebilir. \n",
        "Python’da dictionary’de tek tırnak kullanılır Json’da çift tırnak kullanılır.\n",
        "Json’da keyler tekrarlanabilir ancak dictionary’de tekrarlanamaz. \n",
        "Dictionary dict nesne döndürür json string döndürür.\n",
        "\n",
        "**Dumps Ne işe yarıyor?**\n",
        "\n",
        "Python verisini json’a dönüştürür. \n",
        "\n",
        "**Neden encode kullandık?**\n",
        "\n",
        "Dosyaları daha kolay depolamak için eğer utf-8 kullansaydık bu bize zaman kaybı yaratacaktı."
      ],
      "metadata": {
        "id": "x4AqtEGQlirA"
      }
    },
    {
      "cell_type": "markdown",
      "source": [
        "**Ödev-2)**\n",
        "**json dumps nedir?**\n",
        "\n",
        "Python verisini JSON’a dönüştürmek için kullanılır. Bir çok Python nesnesi json’a dönüştürülebilmektedir. Bunlar: dict, list, string ,int, float, True, False, None\n",
        "\n",
        "**json load nedir?**\n",
        "\n",
        "Sadece JSON dosyasındaki verileri Python verisine çevirir. Veriyi parametre olarak almaz.\n",
        "\n",
        "**json loads nedir?**\n",
        "\n",
        "Bir JSON verisini Python’da dict türü bir nesneye dönüştürmek için kullanılır. Veriyi parametre olarak alır."
      ],
      "metadata": {
        "id": "1hAJ7Qo0litX"
      }
    },
    {
      "cell_type": "markdown",
      "source": [
        "**Ödev-3) **\n",
        "**Dockera girdikten sonra spesific bir container hangi networkta çalışıyor?**\n",
        "\n",
        "Bridge Network’te çalışıyor.\n",
        "\n",
        "**Default ip nasıl bulunacak? Bir satırlık kod olarak yazılacak.**\n",
        "\n",
        "sudo docker container inspect --format '{{ .NetworkSettings.IPAddress  }}' f1ae"
      ],
      "metadata": {
        "id": "uYSZjRvYlivl"
      }
    },
    {
      "cell_type": "markdown",
      "source": [
        "**Ödev-4) Kod json.dumps değil de json.dump ile deneyerek yazılacak.**\n",
        "\n",
        "producer.send( OREDER_KAFKA_TOPİC, with open(\"sample.json\", \"w\") as outfile: json.dump(data, outfile) f = open(\"demofile.txt\", \"r\") f.read() )"
      ],
      "metadata": {
        "id": "K43KUAwelixn"
      }
    },
    {
      "cell_type": "markdown",
      "source": [
        "**Ödev-5) Neden UTF-8 kullanıyoruz?**\n",
        "\n",
        "Geriye dönük uyumludur. Tek veya çok boyutlu karakterler arasında kolay ayrım yapabilmekte. Değişken kod uzunluğu, kendini eş zamanlama gibi özelliklere sahip. Tüm dünya alfabelerini kapsayan on binlerce karakter söz konusudur. Ayrıca Türkçe karakterleri barından son derece kapsamlı setler içerir."
      ],
      "metadata": {
        "id": "WDBCZdlTlizz"
      }
    },
    {
      "cell_type": "markdown",
      "source": [
        "**Ödev-6) 192.168.0.1 nedir ve 127.00.01 arasındaki fark nedir?**\n",
        "\n",
        "192.168.0.1: Yerel ipdir. Kablosuz yönlendiricimize erişebilir ve bunları bu adres üzerinden yapılandırabiliriz.\n",
        "127.00.01: Bilgisayarın sahip olduğu yerel bir IP adresidir. Web sunucusu veya yazılım kurduğunuzda yazılım bilgisayarımızla bu ip üzerinden iletişime geçer. Evrenseldir tüm bilgisayarlarda bu adres kullanılır bu sebeple Localhost özel bir IP değerine sahip değildir\n"
      ],
      "metadata": {
        "id": "4YwCe5tKli1-"
      }
    }
  ]
}