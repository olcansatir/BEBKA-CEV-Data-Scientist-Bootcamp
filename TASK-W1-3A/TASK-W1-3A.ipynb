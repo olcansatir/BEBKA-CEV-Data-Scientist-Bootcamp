{
  "nbformat": 4,
  "nbformat_minor": 0,
  "metadata": {
    "colab": {
      "provenance": []
    },
    "kernelspec": {
      "name": "python3",
      "display_name": "Python 3"
    },
    "language_info": {
      "name": "python"
    }
  },
  "cells": [
    {
      "cell_type": "markdown",
      "source": [
        "**Write a piece of code that will generate numbers for a coupon in Sayisal Loto that should include 8 colons and each column should have 6 random numbers. Please control the colons in terms of having no repetitions.**"
      ],
      "metadata": {
        "id": "j8eGfQ9747Au"
      }
    },
    {
      "cell_type": "code",
      "execution_count": 3,
      "metadata": {
        "colab": {
          "base_uri": "https://localhost:8080/"
        },
        "id": "WW6Gi6kl44VQ",
        "outputId": "f2e9ae93-31a5-4c03-a487-e9f07e00d9ae"
      },
      "outputs": [
        {
          "output_type": "stream",
          "name": "stdout",
          "text": [
            "[14, 15, 27, 32, 43, 49]\n",
            "[16, 21, 27, 41, 46, 49]\n",
            "[6, 10, 12, 15, 42, 47]\n",
            "[1, 3, 13, 32, 37, 42]\n",
            "[8, 13, 15, 20, 22, 39]\n",
            "[5, 28, 35, 40, 43, 47]\n",
            "[3, 7, 25, 31, 42, 45]\n",
            "[6, 17, 30, 37, 39, 48]\n"
          ]
        }
      ],
      "source": [
        "import numpy as np\n",
        "list1 = list(np.random.permutation(np.arange(1,50))[:6])\n",
        "list1.sort()\n",
        "list2 = list(np.random.permutation(np.arange(1,50))[:6])\n",
        "list2.sort()\n",
        "list3 = list(np.random.permutation(np.arange(1,50))[:6])\n",
        "list3.sort()\n",
        "list4 = list(np.random.permutation(np.arange(1,50))[:6])\n",
        "list4.sort()\n",
        "list5 = list(np.random.permutation(np.arange(1,50))[:6])\n",
        "list5.sort()\n",
        "list6 = list(np.random.permutation(np.arange(1,50))[:6])\n",
        "list6.sort()\n",
        "list7 = list(np.random.permutation(np.arange(1,50))[:6])\n",
        "list7.sort()\n",
        "list8 = list(np.random.permutation(np.arange(1,50))[:6])\n",
        "list8.sort()\n",
        "\n",
        "lotto = [list1,list2,list3,list4,list5,list6,list7,list8]\n",
        "for index in range(len(lotto)):\n",
        "  print(lotto[index])"
      ]
    }
  ]
}