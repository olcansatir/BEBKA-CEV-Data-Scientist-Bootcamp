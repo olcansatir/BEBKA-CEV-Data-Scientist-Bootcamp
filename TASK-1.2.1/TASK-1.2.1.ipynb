{
  "nbformat": 4,
  "nbformat_minor": 0,
  "metadata": {
    "colab": {
      "provenance": []
    },
    "kernelspec": {
      "name": "python3",
      "display_name": "Python 3"
    },
    "language_info": {
      "name": "python"
    }
  },
  "cells": [
    {
      "cell_type": "markdown",
      "source": [
        "**Prime number function: use while instead of for** "
      ],
      "metadata": {
        "id": "j8eGfQ9747Au"
      }
    },
    {
      "cell_type": "code",
      "execution_count": 1,
      "metadata": {
        "colab": {
          "base_uri": "https://localhost:8080/"
        },
        "id": "WW6Gi6kl44VQ",
        "outputId": "ef534de2-ac5f-4237-8941-c390db935510"
      },
      "outputs": [
        {
          "output_type": "stream",
          "name": "stdout",
          "text": [
            "True\n",
            "False\n",
            "True\n",
            "True\n"
          ]
        }
      ],
      "source": [
        "def is_prime_v2(num):\n",
        "  x=2\n",
        "  if(num<2):\n",
        "    return False\n",
        "  elif(num==2):\n",
        "    return True\n",
        "  elif(num%2==0):\n",
        "    return False\n",
        "  while x < num:\n",
        "    if num % x == 0:\n",
        "      return False\n",
        "    x=x+1\n",
        "  else:\n",
        "    return True \n",
        "print(is_prime_v2(31))\n",
        "print(is_prime_v2(46))\n",
        "print(is_prime_v2(29))\n",
        "print(is_prime_v2(83))"
      ]
    }
  ]
}